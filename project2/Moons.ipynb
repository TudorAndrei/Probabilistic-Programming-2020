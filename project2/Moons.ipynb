{
 "cells": [
  {
   "cell_type": "code",
   "execution_count": 1,
   "id": "refined-conviction",
   "metadata": {},
   "outputs": [],
   "source": [
    "import warnings\n",
    "warnings.simplefilter(action='ignore', category=FutureWarning)\n",
    "import pyro\n",
    "from pyro.optim import ClippedAdam\n",
    "from pyro.infer import SVI, Trace_ELBO, ELBO,  TraceMeanField_ELBO\n",
    "import pyro.distributions as dist\n",
    "import pyro.poutine as poutine\n",
    "from pyro.infer.autoguide import AutoDiagonalNormal, AutoGuide\n",
    "\n",
    "from pyro.contrib.bnn import HiddenLayer\n",
    "\n",
    "import torch\n",
    "import torch.nn as nn\n",
    "import torch.optim as optim\n",
    "import torch.nn.functional as F\n",
    "from torch.utils.data import DataLoader\n",
    "\n",
    "from torch.distributions import constraints\n",
    "\n",
    "from tqdm import trange, tqdm\n",
    "import numpy as np\n",
    "from sklearn.model_selection import train_test_split\n",
    "from sklearn.datasets import make_moons, load_wine\n",
    "from sklearn.model_selection import train_test_split\n",
    "from sklearn.metrics import accuracy_score\n",
    "\n",
    "np.random.seed(42)\n",
    "pyro.set_rng_seed(42)\n",
    "torch.set_default_dtype(torch.float64)"
   ]
  },
  {
   "cell_type": "code",
   "execution_count": 2,
   "id": "fantastic-oregon",
   "metadata": {},
   "outputs": [],
   "source": [
    "def fit(model,\n",
    "        loader,\n",
    "        epochs = 2,\n",
    "        optimizer=None,\n",
    "        criterion=nn.BCEWithLogitsLoss(),\n",
    "        lr=0.001):\n",
    "    \n",
    "    epochs = trange(epochs)\n",
    "    \n",
    "    if optimizer == None:\n",
    "        optimizer = torch.optim.Adam(model.parameters(), lr=lr)\n",
    "    for epoch in epochs:\n",
    "        running_loss = []\n",
    "        for inputs, labels in loader:\n",
    "\n",
    "            inputs = inputs.double()          \n",
    "            optimizer.zero_grad()\n",
    "\n",
    "            \n",
    "            outputs = model(inputs)\n",
    "            labels = labels.type_as(outputs)\n",
    "            \n",
    "            labels = labels.unsqueeze(1)\n",
    "            loss = criterion(outputs, labels)\n",
    "            loss.backward()\n",
    "            optimizer.step()\n",
    "\n",
    "            running_loss.append(loss.item())\n",
    "\n",
    "        loss = sum(running_loss) / len(running_loss)\n",
    "        string = f\"Loss = {loss:.5f}\"\n",
    "        epochs.set_postfix_str(s=string)\n",
    "\n",
    "def score(model, dataloader, type_ = 'test'):\n",
    "    correct=0\n",
    "    total = 0\n",
    "    for test_inputs, test_labels in dataloader:\n",
    "\n",
    "        outputs = model(test_inputs)\n",
    "        test_inputs = test_inputs.type_as(outputs)\n",
    "        predicted = torch.round(outputs).detach().numpy()\n",
    "        acc = accuracy_score(np.array(predicted), np.array(test_labels))\n",
    "    print(f\"Accuracy on {type_}: {100 * acc}%\")\n",
    "    "
   ]
  },
  {
   "cell_type": "code",
   "execution_count": 3,
   "id": "instructional-migration",
   "metadata": {},
   "outputs": [],
   "source": [
    "X_moon, y_moon = make_moons(n_samples=150, noise=.05)\n",
    "\n",
    "class MoonDataset(torch.utils.data.dataset.Dataset):\n",
    "    def __init__(self, X, y):\n",
    "        self.X = X\n",
    "        self.y = y\n",
    "\n",
    "    def __len__(self):\n",
    "        return len(self.X)\n",
    "\n",
    "    def __getitem__(self, idx):\n",
    "    \n",
    "        return self.X[idx,:], self.y[idx]\n",
    "\n",
    "moon_split = 100\n",
    "train_moon = DataLoader(MoonDataset(X_moon[:moon_split], y_moon[:moon_split]),batch_size=moon_split, shuffle=True)\n",
    "test_moon = DataLoader(MoonDataset(X_moon[moon_split:], y_moon[moon_split:]),batch_size=moon_split, shuffle=True)"
   ]
  },
  {
   "cell_type": "code",
   "execution_count": 6,
   "id": "tight-intersection",
   "metadata": {},
   "outputs": [],
   "source": [
    "class MoonModel(nn.Module):\n",
    "    def __init__(self, num_in=2):\n",
    "        super(MoonModel, self).__init__()\n",
    "        self.fc1 = nn.Linear(num_in, 2)\n",
    "        self.fc2 = nn.Linear(2, 2)\n",
    "        \n",
    "        self.out = nn.Linear(2, 1)\n",
    "\n",
    "    def forward(self, x):\n",
    "        x = torch.tanh(self.fc1(x))\n",
    "        X = torch.tanh(self.fc2(x))\n",
    "        \n",
    "        x = torch.sigmoid(self.out(x))\n",
    "        return x\n",
    "\n",
    "moon_model = MoonModel(2)"
   ]
  },
  {
   "cell_type": "code",
   "execution_count": 7,
   "id": "settled-cheat",
   "metadata": {},
   "outputs": [
    {
     "name": "stderr",
     "output_type": "stream",
     "text": [
      "100%|██████████| 10/10 [00:00<00:00, 155.69it/s, Loss = 0.62667]"
     ]
    },
    {
     "name": "stdout",
     "output_type": "stream",
     "text": [
      "Accuracy on train: 65.0%\n",
      "Accuracy on test: 82.0%\n"
     ]
    },
    {
     "name": "stderr",
     "output_type": "stream",
     "text": [
      "\n"
     ]
    }
   ],
   "source": [
    "fit(moon_model, train_moon, 10, criterion=nn.BCELoss(), lr=0.001)\n",
    "score(moon_model, test_moon)"
   ]
  },
  {
   "cell_type": "code",
   "execution_count": 11,
   "id": "damaged-block",
   "metadata": {},
   "outputs": [],
   "source": [
    "class BNN(nn.Module):\n",
    "    def __init__(self):\n",
    "        super(BNN, self).__init__()\n",
    "        self.n_indims = 2\n",
    "        self.n_hidden = 10\n",
    "        self.n_classes = 1\n",
    "       \n",
    "    def model(self, data, labels=None):\n",
    "        \n",
    "        n_data = len(data)\n",
    "        if labels is not None:\n",
    "            labels = labels.float()\n",
    "            \n",
    "        l1_mean = torch.zeros(self.n_indims, self.n_hidden)\n",
    "        l1_scale = torch.ones(self.n_indims, self.n_hidden) \n",
    "        \n",
    "        l2_mean = torch.zeros(self.n_hidden + 1, self.n_classes)\n",
    "        l2_scale = torch.ones(self.n_hidden + 1, self.n_classes)\n",
    "        \n",
    "        \n",
    "        with pyro.plate('data', size=n_data):\n",
    "            h1 = pyro.sample('h1', HiddenLayer(data, l1_mean,l1_scale, \n",
    "                                                   non_linearity=F.relu,))\n",
    "           \n",
    "            logits = pyro.sample('logits', HiddenLayer(h1, l2_mean, l2_scale,\n",
    "                                                           non_linearity=F.sigmoid,\n",
    "                                                           include_hidden_bias=False))\n",
    "            \n",
    "            \n",
    "            return pyro.sample('label', dist.Bernoulli(logits=logits), obs=labels) \n",
    "    \n",
    "    def guide(self, data, labels=None):\n",
    "        n_data = len(data)\n",
    "        if labels is not None:\n",
    "            labels = labels.float()\n",
    "\n",
    "        l1_mean = pyro.param('l1_mean', 0.1 * torch.randn(self.n_indims, self.n_hidden))\n",
    "        l1_scale = pyro.param('l1_scale', 0.1 * torch.ones(self.n_indims, self.n_hidden),\n",
    "                              constraint=constraints.greater_than(0.01))\n",
    "        \n",
    "        l2_mean = pyro.param('l2_mean', 0.1 * torch.randn(self.n_hidden + 1, self.n_classes))\n",
    "        l2_scale = pyro.param('l2_scale', 0.1 * torch.ones(self.n_hidden + 1, self.n_classes),\n",
    "                              constraint=constraints.greater_than(0.01))\n",
    "        \n",
    "        with pyro.plate('data', size=n_data):\n",
    "            h1 = pyro.sample('h1', HiddenLayer(data,\n",
    "                                               l1_mean,\n",
    "                                               l1_scale, \n",
    "                                               non_linearity=torch.tanh))\n",
    "            \n",
    "            logits = pyro.sample('logits', HiddenLayer(h1,\n",
    "                                                       l2_mean,\n",
    "                                                       l2_scale,\n",
    "                                                       non_linearity=torch.sigmoid,\n",
    "                                                       include_hidden_bias=False))\n",
    "    \n",
    "    \n",
    "    def infer(self, loader, lr=0.01, momentum=0.9,\n",
    "                         num_epochs=30):\n",
    "        optim = ClippedAdam({'lr': lr})\n",
    "        elbo =  TraceMeanField_ELBO()\n",
    "        svi = SVI(self.model, self.guide, optim, elbo)\n",
    "        epochs = trange(num_epochs)\n",
    "        for i in epochs:\n",
    "            for data, labels in loader:\n",
    "                \n",
    "                loss = svi.step(data.double(), labels)  / len(labels)                \n",
    "            string = f\"Loss = {loss:.5f}\"\n",
    "            epochs.set_postfix_str(s=string)\n",
    "\n",
    "    def forward(self, images, n_samples=10):\n",
    "        res = []\n",
    "        for i in range(n_samples):\n",
    "            t = poutine.trace(self.guide).get_trace(images)\n",
    "            res.append(t.nodes['logits']['value'])\n",
    "        return torch.stack(res, dim=0) \n",
    "\n",
    "    def score(self, dataloader, type_ = 'test'):\n",
    "        for data, labels in dataloader:            \n",
    "            predicted = bayesnn.forward(data, 1)\n",
    "            predicted = predicted.detach().numpy().mean(axis=0).round().squeeze()\n",
    "            acc = accuracy_score(np.array(predicted), np.array(labels))\n",
    "\n",
    "        print(f\"Accuracy on {type_}: {acc * 100:.2f}%\")"
   ]
  },
  {
   "cell_type": "code",
   "execution_count": 12,
   "id": "immune-spider",
   "metadata": {},
   "outputs": [
    {
     "name": "stderr",
     "output_type": "stream",
     "text": [
      "100%|██████████| 100/100 [00:00<00:00, 232.02it/s, Loss = 72.02252]\n"
     ]
    }
   ],
   "source": [
    "pyro.clear_param_store()\n",
    "bayesnn = BNN()\n",
    "bayesnn.infer(train_moon, num_epochs=100, lr=0.001)"
   ]
  },
  {
   "cell_type": "code",
   "execution_count": 13,
   "id": "difficult-census",
   "metadata": {},
   "outputs": [
    {
     "name": "stdout",
     "output_type": "stream",
     "text": [
      "Accuracy on train: 47.00%\n",
      "Accuracy on test: 28.00%\n"
     ]
    }
   ],
   "source": [
    "bayesnn.score(train_moon, 'train')\n",
    "bayesnn.score(test_moon)"
   ]
  },
  {
   "cell_type": "code",
   "execution_count": null,
   "id": "greenhouse-malta",
   "metadata": {},
   "outputs": [],
   "source": []
  }
 ],
 "metadata": {
  "kernelspec": {
   "display_name": "Python 3",
   "language": "python",
   "name": "python3"
  },
  "language_info": {
   "codemirror_mode": {
    "name": "ipython",
    "version": 3
   },
   "file_extension": ".py",
   "mimetype": "text/x-python",
   "name": "python",
   "nbconvert_exporter": "python",
   "pygments_lexer": "ipython3",
   "version": "3.6.12"
  }
 },
 "nbformat": 4,
 "nbformat_minor": 5
}
